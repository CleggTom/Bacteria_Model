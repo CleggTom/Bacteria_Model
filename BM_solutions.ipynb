{
 "cells": [
  {
   "cell_type": "markdown",
   "metadata": {},
   "source": [
    "# Bacteria model - Analytical solutions"
   ]
  },
  {
   "cell_type": "markdown",
   "metadata": {},
   "source": [
    "## Introduction\n",
    "Using the initial parameters used in model development at steady state all bacteria (consumers) are extinct. "
   ]
  },
  {
   "cell_type": "markdown",
   "metadata": {},
   "source": [
    "![alt_text](Figure_ein.png)"
   ]
  },
  {
   "cell_type": "markdown",
   "metadata": {},
   "source": [
    "As a reminder the 2 ODEs for this model are:\n",
    "\n",
    "\\begin{equation}\n",
    "dC_i/dt = C_i\\Bigl(\\sum_{j=1}^{M}u_{ij}S_j(1-Rg_j-\\sum_{k=1}^{M}l_{jk}) - Rm_i\\Bigl) \\tag{1}\n",
    "\\end{equation}\n",
    "\n",
    "\n",
    "\\begin{equation}\n",
    "dS_j/dt = \\rho - \\sum_{i=1}^{N}\\Bigl(C_iu_{ij}S_j-\\sum_{k=1}^{M}C_iu_{ij}S_jl_{kj}\\Bigl) \\tag{2}\n",
    "\\end{equation}"
   ]
  },
  {
   "cell_type": "markdown",
   "metadata": {},
   "source": [
    "## Analytical solutions\n",
    "\n",
    "We can use `sympy` to determine what the parameters should be such that the consumers co-exist, assuming only one species and one resource are present."
   ]
  },
  {
   "cell_type": "code",
   "execution_count": 10,
   "metadata": {},
   "outputs": [],
   "source": [
    "%matplotlib inline\n",
    "import matplotlib.pyplot as p\n",
    "from sympy import *\n",
    "import scipy as sc\n",
    "\n",
    "u, S, l, Rg, Rm, C,rho, t = var(\"u, S, l, Rg, Rm, C, rho,t\",real = True)\n",
    "\n",
    "dC_dt = C * ((u * S * (1-Rg-l)) - Rm)\n",
    "dS_dt = rho - ((u * S * C) + (C * S * u * l))\n",
    "\n",
    "C_eqlb = Eq(dC_dt, 0)\n",
    "S_eqlb = Eq(dS_dt, 0)\n",
    "\n",
    "C_eqlb_sol = solve(C_eqlb, S)\n",
    "S_eqlb_sol = solve(S_eqlb, C)"
   ]
  },
  {
   "cell_type": "code",
   "execution_count": 11,
   "metadata": {},
   "outputs": [
    {
     "data": {
      "text/plain": [
       "([-Rm/(u*(Rg + l - 1))], [rho/(S*u*(l + 1))])"
      ]
     },
     "execution_count": 11,
     "metadata": {},
     "output_type": "execute_result"
    }
   ],
   "source": [
    "C_eqlb_sol, S_eqlb_sol"
   ]
  },
  {
   "cell_type": "markdown",
   "metadata": {},
   "source": [
    "There is one equilibrium solution where the consumers co-exist and the resources exist. Parameters can be found using the following expressions:\n",
    "\n",
    "\\begin{equation}\n",
    "0 < -\\frac{Rm}{U(Rg + l - 1)} \\tag{3}\n",
    "\\end{equation}\n",
    "\n",
    "\\begin{equation}\n",
    "0 < \\frac{\\rho}{SU(l+1)} \\tag{4}\n",
    "\\end{equation}"
   ]
  },
  {
   "cell_type": "markdown",
   "metadata": {},
   "source": [
    "So for consumers and resources to co-exist $Rm$ (maintenance cost), $U$ (uptake), $\\rho$ (external resource supply) and $S$ (resource concentration $\\neq$ 0 and $l$ $\\neq$ 1. "
   ]
  },
  {
   "cell_type": "markdown",
   "metadata": {},
   "source": [
    "In addition ($Rg$ $+$ $l$ $-$ 1) must be negative and thus $Rg$ $+$ $l$ $<$ 1. This is because $Rm$ can never be negative as this would infer no maintenance cost and actually a gain to the consumer, and a negative $U$ would be a loss of a resource from a consumer rather than uptake. "
   ]
  },
  {
   "cell_type": "markdown",
   "metadata": {},
   "source": [
    "To make the current version of the model run to equilibrium with co-existing species then there must be external resources present ($\\rho$ > 0, previously $\\rho$ = 0) and all consumers must have a preference for at least one resource (previously only 50 % of the consumers ingested a resource). $Rg$ and $l$ have also been increased to produce the plot below."
   ]
  },
  {
   "cell_type": "markdown",
   "metadata": {},
   "source": [
    "![alt_text](Figure_ein_exist.png)"
   ]
  },
  {
   "cell_type": "code",
   "execution_count": null,
   "metadata": {},
   "outputs": [],
   "source": []
  }
 ],
 "metadata": {
  "kernelspec": {
   "display_name": "Python 3",
   "language": "python",
   "name": "python3"
  },
  "language_info": {
   "codemirror_mode": {
    "name": "ipython",
    "version": 3
   },
   "file_extension": ".py",
   "mimetype": "text/x-python",
   "name": "python",
   "nbconvert_exporter": "python",
   "pygments_lexer": "ipython3",
   "version": "3.7.3"
  }
 },
 "nbformat": 4,
 "nbformat_minor": 2
}
