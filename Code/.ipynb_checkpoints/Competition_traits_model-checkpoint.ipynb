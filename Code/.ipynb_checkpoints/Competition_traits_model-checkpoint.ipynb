{
 "cells": [
  {
   "cell_type": "markdown",
   "metadata": {},
   "source": [
    "# Implication of competition on ecological response to warming <a class=\"tocSkip\">"
   ]
  },
  {
   "cell_type": "markdown",
   "metadata": {
    "toc": true
   },
   "source": [
    "<h1>Table of Contents<span class=\"tocSkip\"></span></h1>\n",
    "<div class=\"toc\"><ul class=\"toc-item\"><li><span><a href=\"#Introduction:-Bacterial-competition,-warming-and-size\" data-toc-modified-id=\"Introduction:-Bacterial-competition,-warming-and-size-1\"><span class=\"toc-item-num\">1&nbsp;&nbsp;</span>Introduction: Bacterial competition, warming and size</a></span></li><li><span><a href=\"#Model-set-up\" data-toc-modified-id=\"Model-set-up-2\"><span class=\"toc-item-num\">2&nbsp;&nbsp;</span>Model set up</a></span><ul class=\"toc-item\"><li><span><a href=\"#Consumers\" data-toc-modified-id=\"Consumers-2.1\"><span class=\"toc-item-num\">2.1&nbsp;&nbsp;</span>Consumers</a></span></li><li><span><a href=\"#Resources\" data-toc-modified-id=\"Resources-2.2\"><span class=\"toc-item-num\">2.2&nbsp;&nbsp;</span>Resources</a></span></li><li><span><a href=\"#Constraints\" data-toc-modified-id=\"Constraints-2.3\"><span class=\"toc-item-num\">2.3&nbsp;&nbsp;</span>Constraints</a></span></li><li><span><a href=\"#Comparison-to-the-Marsland-model\" data-toc-modified-id=\"Comparison-to-the-Marsland-model-2.4\"><span class=\"toc-item-num\">2.4&nbsp;&nbsp;</span>Comparison to the Marsland model</a></span><ul class=\"toc-item\"><li><span><a href=\"#Differences-between-ours-and-Marslands-model\" data-toc-modified-id=\"Differences-between-ours-and-Marslands-model-2.4.1\"><span class=\"toc-item-num\">2.4.1&nbsp;&nbsp;</span>Differences between ours and Marslands model</a></span></li></ul></li></ul></li><li><span><a href=\"#2-species-2-resources-model\" data-toc-modified-id=\"2-species-2-resources-model-3\"><span class=\"toc-item-num\">3&nbsp;&nbsp;</span>2-species 2-resources model</a></span><ul class=\"toc-item\"><li><span><a href=\"#Bacteria\" data-toc-modified-id=\"Bacteria-3.1\"><span class=\"toc-item-num\">3.1&nbsp;&nbsp;</span>Bacteria</a></span></li><li><span><a href=\"#Resources\" data-toc-modified-id=\"Resources-3.2\"><span class=\"toc-item-num\">3.2&nbsp;&nbsp;</span>Resources</a></span></li></ul></li><li><span><a href=\"#Co-existence-at-equilibria\" data-toc-modified-id=\"Co-existence-at-equilibria-4\"><span class=\"toc-item-num\">4&nbsp;&nbsp;</span>Co-existence at equilibria</a></span><ul class=\"toc-item\"><li><span><a href=\"#Find-all-possible-equilibria-Bacteria-masses-at-different-Ea-values\" data-toc-modified-id=\"Find-all-possible-equilibria-Bacteria-masses-at-different-Ea-values-4.1\"><span class=\"toc-item-num\">4.1&nbsp;&nbsp;</span>Find all possible equilibria Bacteria masses at different Ea values</a></span></li><li><span><a href=\"#Findings-in-equilibria-values\" data-toc-modified-id=\"Findings-in-equilibria-values-4.2\"><span class=\"toc-item-num\">4.2&nbsp;&nbsp;</span>Findings in equilibria values</a></span><ul class=\"toc-item\"><li><span><a href=\"#Conclusions-of-finding-equlibria\" data-toc-modified-id=\"Conclusions-of-finding-equlibria-4.2.1\"><span class=\"toc-item-num\">4.2.1&nbsp;&nbsp;</span>Conclusions of finding equlibria</a></span></li></ul></li></ul></li><li><span><a href=\"#R*\" data-toc-modified-id=\"R*-5\"><span class=\"toc-item-num\">5&nbsp;&nbsp;</span>R*</a></span><ul class=\"toc-item\"><li><span><a href=\"#Modelling-functional-traits\" data-toc-modified-id=\"Modelling-functional-traits-5.1\"><span class=\"toc-item-num\">5.1&nbsp;&nbsp;</span>Modelling functional traits</a></span><ul class=\"toc-item\"><li><span><a href=\"#Temperature-and-size-dependance\" data-toc-modified-id=\"Temperature-and-size-dependance-5.1.1\"><span class=\"toc-item-num\">5.1.1&nbsp;&nbsp;</span>Temperature and size dependance</a></span></li><li><span><a href=\"#Expressing-size-dependancy\" data-toc-modified-id=\"Expressing-size-dependancy-5.1.2\"><span class=\"toc-item-num\">5.1.2&nbsp;&nbsp;</span>Expressing size dependancy</a></span></li></ul></li></ul></li><li><span><a href=\"#Context-and-possible-aim\" data-toc-modified-id=\"Context-and-possible-aim-6\"><span class=\"toc-item-num\">6&nbsp;&nbsp;</span>Context and possible aim</a></span><ul class=\"toc-item\"><li><span><a href=\"#Aim\" data-toc-modified-id=\"Aim-6.1\"><span class=\"toc-item-num\">6.1&nbsp;&nbsp;</span>Aim</a></span></li></ul></li></ul></div>"
   ]
  },
  {
   "cell_type": "markdown",
   "metadata": {},
   "source": [
    "## Introduction: Bacterial competition, warming and size"
   ]
  },
  {
   "cell_type": "markdown",
   "metadata": {},
   "source": [
    "Motivation: To examine how microbial communities and ecosystem function will respond to warming and disturbance (e.g. chemical pollution such as pesticides or antibiotics). This model investigates the impact of response of bacteria to warming based on different functional groups competing for the same resources. This will add to the small body of literature which emphasises that: 'food web response to temperature cannot be derived from the single species temperature response' [(Nomdedeuet al. 2013)](https://link.springer.com/content/pdf/10.1007%2Fs00227-012-1966-x.pdf). In most food web/low trophic/biogeochemical models changes to species/functional group interactions with warming are not considered.\n",
    "\n",
    "This model builds on the work by [Marsland et al. (2019)](https://journals.plos.org/ploscompbiol/article?id=10.1371/journal.pcbi.1006793), which uses the seminal MacArthur (1970) species competition model. It includes a consumer pool (bacteria) and a resource pool (organic compounds). The bacteria can feed on specific resources only, and the resources consumed by the bacteria can be converted into other resources. Multiple bacteria with different functional traits (e.g. size, response to warmings (Thermal Performance Curves, TPCs), nutrient preference) compete for the same resourse. This notebook sets out the model and determines which traits are selected for under different environment and community scenarios.\n",
    "\n",
    "For detailed model description and explanation of the equations see this [notebook](https://nbviewer.jupyter.org/github/CleggTom/Bacteria_EcoFunc/blob/master/notebooks/Metabolic_model.ipynb) by Tom Clegg who built the initial model. \n"
   ]
  },
  {
   "cell_type": "markdown",
   "metadata": {},
   "source": [
    "## Model set up\n",
    "\n",
    "### Consumers\n",
    "\n",
    "For an $i$th consumers with $j$ resources the core consumer equation is:\n",
    "\n",
    "\\begin{equation}\n",
    "dC_i/dt = C_i\\Bigl(\\sum_{j=1}^{M}u_{ij}S_j(1-Rg_j-\\sum_{j \\neq k}^{M}l_{jk}) - Rm_i\\Bigl) \\tag{1}\n",
    "\\end{equation}"
   ]
  },
  {
   "cell_type": "markdown",
   "metadata": {},
   "source": [
    "where $C_i$ is the biomass of consumer $i$, $u_{ij}$ is the preference of consumer $i$ to uptake resource $j$, $S_j$ is the mass or concentration of resources $j$, $Rg_j$ is the loss of consuming resource $j$ to respiration, $l_{jk}$ is the proportion of $j$ taken up by the bacteria that is converted to and released as resource $k$, and $Rm_i$ is the maintenance cost loss term. "
   ]
  },
  {
   "cell_type": "markdown",
   "metadata": {},
   "source": [
    "### Resources\n",
    "\n",
    "For a $j$th resource the core equation is:\n",
    "\n",
    "\\begin{equation}\n",
    "dS_j/dt = \\rho_j - \\sum_{i=1}^{N}\\Bigl(C_iu_{ij}S_j-\\sum_{j \\neq k}^{M}C_iu_{ij}S_jl_{kj}\\Bigl) \\tag{2}\n",
    "\\end{equation}\n",
    "\n",
    "where $\\rho$ is the external input of resource $j$ and $l_{kj}$ is the gain and conversion of resource $j$ from $k$.\n",
    "\n",
    "### Constraints\n",
    "\n",
    "\\begin{array}{|c|c|c|}\n",
    "\\hline Parameter/Variable & Dimension & Units & Constraint & Temp/size-dependant & Initial-value \\\\\\hline\n",
    "  External-nutrient-supply, \\rho_j & vector (,j) & mass/time & > 0 & no & 1 \\\\\\hline\n",
    "  Nutrient-uptake, u_{ij} & matrix (i,j) & /masstime & > 0& yes & 1 \\\\\\hline\n",
    "  Growth-respiration, Rg_j & vector (,j) & NA & < 1 & no & 0 \\\\\\hline\n",
    "  Maintenance-respiration, Rm_i & vector (i,) & /time & >0, < 1& yes & 0.5 \\\\\\hline\n",
    "  Excretion-to-new-nutrient, l_{jk} & matrix (j,k) & NA & < 1& no & 0.4 \\\\\\hline\n",
    "  Nutrients& vector (j,) & mass& > 0 & NA & 1 \\\\\\hline\n",
    "  Bacteria & vector (i,) & mass& > 0 & NA & 0.1 \\\\\\hline\n",
    "\\end{array}\n",
    "\n",
    "The above table sets our the contraints on the parameters and variables (nutrients and bacteria). There is another condition too that growth respiration and excretion must not sum to 1 or more ($Rg_j$ + $l_{jk}$ < 1) as otherwise no nutrient is gained by the bacteria.\n",
    "\n"
   ]
  },
  {
   "cell_type": "markdown",
   "metadata": {},
   "source": [
    "### Comparison to the Marsland model\n",
    "\n",
    "The equations below set out the Marsland 2019 model.\n",
    "\n",
    "\\begin{equation}\n",
    "dC_i/dt = g_iC_i\\Bigl(\\sum_{j=1}^{M}w_j\\sigma u_{ij}S_j(1-\\sum_{k=1}^{M}l_{jk}) - Rm_i\\Bigl) \\tag{3}\n",
    "\\end{equation}\n",
    "\n",
    "\\begin{equation}\n",
    "dS_j/dt = \\rho_j + \\sum_{i=1}^{N}C_i\\Bigl(\\sum_{k=1}^{M}\\sigma u_{ij}S_j l_{kj} - \\sigma u_{ij}S_j\\Bigl) \\tag{4}\n",
    "\\end{equation}\n",
    "\n",
    "where $g_i$ is the proportional constant between per capita growth rate and energy flux, $w_j$ is the energy density of resource $j$ (units are energy/mass) and $\\sigma$ is the functional response (units mass/time).\n",
    "\n",
    "#### Differences between ours and Marslands model\n",
    "\n",
    "- We do not parameterise energy density of resource ($w_j$) and therefore nor the constant between growth and energy flux ($g_i$) \n",
    "- We assume a Type I functional response ($\\sigma$)\n",
    "- For Marsland $\\rho_j$ = 0 except for $\\rho_0$, so only the first resource has an external input which then diversifies. In our model all resources have an input.\n",
    "- We include the addition of respiration loss associated with growth ($R_g$) as a loss term in the Bacterial mass (dC/dt) equation."
   ]
  },
  {
   "cell_type": "markdown",
   "metadata": {},
   "source": [
    "## 2-species 2-resources model \n",
    "\n",
    "### Bacteria\n",
    "\n",
    "\\begin{equation}\n",
    "dC_1/dt = C_1\\Bigl(\\Bigl(u_{11}S_1(1-Rg_1-(l_{12}+l_{21})) + u_{12}S_2(1-Rg_2-(l_{21}+l_{12}))\\Bigl) - Rm_1\\Bigl) \\tag{5}\n",
    "\\end{equation}\n",
    "\n",
    "\\begin{equation}\n",
    "dC_2/dt = C_2\\Bigl(\\Bigl(u_{21}S_1(1-Rg_1-(l_{12}+l_{21})) + u_{22}S_2(1-Rg_2-(l_{21}+l_{12}))\\Bigl) - Rm_2\\Bigl) \\tag{6}\n",
    "\\end{equation}\n",
    "\n",
    "### Resources\n",
    "\\begin{equation}\n",
    "dS_1/dt = \\rho_1 - \\Bigl((C_1u_{11}S_1-   (C_1u_{11}S_1l_{21} + C_1u_{11}S_1l_{12})) + (C_2u_{21}S_1-   (C_2u_{21}S_1l_{21} + C_2u_{21}S_1l_{12}))\\Bigl) \\tag{7}\n",
    "\\end{equation}\n",
    "\n",
    "\\begin{equation}\n",
    "dS_2/dt = \\rho_2 - \\Bigl((C_1u_{12}S_2-   (C_1u_{12}S_2l_{12} + C_1u_{12}S_2l_{21})) + (C_2u_{22}S_2-   (C_2u_{22}S_2l_{12} + C_2u_{22}S_2l_{21}))\\Bigl) \\tag{8}\n",
    "\\end{equation}\n",
    "\n"
   ]
  },
  {
   "cell_type": "code",
   "execution_count": 12,
   "metadata": {},
   "outputs": [
    {
     "name": "stdout",
     "output_type": "stream",
     "text": [
      "[0.52305806 0.52305806 0.52305806 0.52305806 0.52305806 0.38744745\n",
      " 0.38744745 0.38744745 0.38744745 0.38744745 0.33333333 0.33333333\n",
      " 0.33333333 0.33333333 0.33333333]\n"
     ]
    },
    {
     "data": {
      "image/png": "[encoded data removed]",
      "text/plain": [
       "<Figure size 432x288 with 1 Axes>"
      ]
     },
     "metadata": {
      "needs_background": "light"
     },
     "output_type": "display_data"
    }
   ],
   "source": [
    "import Vector_Testing_model as vtm\n",
    "import matplotlib.pylab as plt\n",
    "from matplotlib.lines import Line2D\n",
    "from scipy.integrate import odeint\n",
    "import numpy as np\n",
    "import scipy as sc\n",
    "\n",
    "N = 10\n",
    "M = 5\n",
    "t_fin = 100\n",
    "t = sc.linspace(0,t_fin-1,t_fin)\n",
    "\n",
    "x0 = np.concatenate((sc.full([N], (0.1)),sc.full([M], (1.0))))\n",
    "pops = odeint(vtm.metabolic_model, y0=x0, t=t)\n",
    "print(pops[t_fin-1,:])\n",
    "\n",
    "#### Plot output ####\n",
    "t_plot = sc.linspace(0,100,100)\n",
    "plt.plot(t, pops[:,0:N], 'g-', label = 'Consumers', linewidth=0.7)\n",
    "plt.plot(t, pops[:,N:N+M], 'b-', label = 'Resources', linewidth=0.7)\n",
    "plt.grid\n",
    "plt.ylabel('Population density')\n",
    "plt.xlabel('Time')\n",
    "plt.title('Bacteria-Nutrients population dynamics')\n",
    "plt.legend([Line2D([0], [0], color='green', lw=2), Line2D([0], [0], color='blue', lw=2)], ['Bacteria', 'Nutrients'])\n",
    "plt.show()"
   ]
  },
  {
   "cell_type": "markdown",
   "metadata": {},
   "source": [
    "![alt text](Figure_2_species_equil.png)\n",
    "\n",
    "This figure shows the a model run with 2 species (green) and 2 resources (blue). Each species prefers one resouce such that $u_{ij}$ = ([1,0], [0,1]). As there is no competition both species have the same equilibrium mass as do both resources. The starting parameters are given in Table 1.\n",
    "\n",
    "## Co-existence at equilibria\n",
    "\n",
    "The solutions for bacteria at equilibrium are:\n",
    "\n",
    "\\begin{equation}\n",
    "C = 0\n",
    "\\end{equation}\n",
    "\n",
    "\\begin{equation}\n",
    "C = \\frac{\\rho(1 - Rg - l)}{Rm(1-l)} = \\frac{1(1 - 0.2 - 0.4)}{0.5(1-0.4)} = 1.33 \\tag{9} \n",
    "\\end{equation}\n",
    "\n",
    "and for resources are:\n",
    "\n",
    "\\begin{equation}\n",
    "S = 0\n",
    "\\end{equation}\n",
    "\n",
    "\\begin{equation}\n",
    "S = \\frac{Rm}{u(1-Rg-l)} = \\frac{0.5}{1(1-0.2-0.4)} = 1.25 \\tag{10}\n",
    "\\end{equation}\n"
   ]
  },
  {
   "cell_type": "markdown",
   "metadata": {},
   "source": [
    "\n",
    "The solutions for bacteria at equilibrium where the Arrhenius equation is used (i.e. no Tpk):\n",
    "\n",
    "\\begin{equation}\n",
    "C = \\frac{\\rho(1 - Rg - l)}{B_{Rm}M^{-0.25}e^{(-Ea/k)(\\frac{1}{T} - \\frac{1}{T_{ref}})}\n",
    "(1-l)} \\tag{11} \n",
    "\\end{equation}\n",
    "\n",
    "and for resources are:\n",
    "\n",
    "<span class=\"mark\">\\begin{equation}\n",
    "S = \\frac{B_{rm}M^{-0.25}e^{(-Ea/k)(\\frac{1}{T} - \\frac{1}{T_{ref}})}}{B_{u}M^{-0.25}e^{(-Ea/k)(\\frac{1}{T} - \\frac{1}{T_{ref}})}(1-Rg-l)} =  \\frac{B_{rm}}{B_{u}(1-Rg-l)}\\tag{12}\n",
    "\\end{equation}\n",
    "\n",
    "Resource ($S$) is independant of $Ea$ and individual functional traits aside from $B0$</span>\n",
    "\n",
    "### Find all possible equilibria Bacteria masses at different Ea values\n",
    "\n",
    "Rearranging Equation 11 yields:\n",
    "\n",
    "\\begin{equation}\n",
    "Ea = \\frac{kln\\Bigl(\\frac{\\rho(1-Rg-l)}{CB_{Rm}M^{-0.25}(1-l)}\\Bigl)}{\\frac{1}{T} - \\frac{1}{T_{ref}}} \\tag{13}\n",
    "\\end{equation}\n",
    "\n",
    "![alt text](Ea_equilibrium.png)\n",
    "\n",
    "The grey line is Ea = 0.65 eV, a typical Ea according to MTE. Here C (Bacterial mass) = 1.52\n",
    "\n",
    "Bacteria with higher Eas have higher mass, unless competing...see below."
   ]
  },
  {
   "cell_type": "markdown",
   "metadata": {},
   "source": [
    "### Findings in equilibria values\n",
    "\n",
    "Aims are to determine equilibria values of bacteria ($C$) when (a) $Ea$ for all bacteria is the same and (b) $Ea$ is different for both bacteria, under different scenarios:\n",
    "1. Bacteria are not competiting for resources, i.e. M = N ($\\rho$, external input, is set to 1 for all resources)\n",
    "2. Bacteria are competiting for resources, i.e. M = N/2 ($\\rho$ is set to 1 for all resources)\n",
    "3. $\\rho$ is set to 1 for $\\rho_0$ (the first resource) and to 0 for the rest for M = N (i.e. cross-feeding becomes important)\n",
    "4. $\\rho$ is 0 for all resources for M = N\n",
    "\n",
    "Only for Scenarios 1a & b does the model result match the analytical solution. Note in scenario a) $Ea$ = 0.6 eV for both bacteria and in scenario b) $Ea$ = 0.6 eV for C1 and 1.0 eV for C2. Below C1 and C2 refer to bacteria and S1 and S2 to resources:\n",
    "\n",
    "|Scenarios | C1 | C2 | S1 | S2 | Notes|\n",
    "|---|---|---|---|---|---|\n",
    "|1a | 1.76 | 1.76 | 0.33 | 0.33 | C and S same as analytical solution (M = N, $\\rho$ = c(1,1), Ea = c(0.6,0.6)|\n",
    "|1b | 1.76 | 1.55 | 0.33 | 0.33 | C and S Same as analytical solution (M = N,$\\rho$ = c(1,1), Ea = c(0.6,1.0)|\n",
    "|2a | 0.88 | 0.88 | 0.33 | NA | C1 and C2 are half of analytical solution, i.e. 1.76/2 = 0.88 (M = N/2, $\\rho$ = c(1), Ea = c(0.6,0.6)|\n",
    "|2b | 0.17 | 0.55 | 0.33 | NA | C1 and C2 are different to analytical solution and here the higher $Ea$ (C2) 'wins'  (M = N/2, $\\rho$ = c(1), Ea = c(0.6,1.0)|\n",
    "|3a | 1.26 | 0.50 | 0.33 | 0.33 | C1 = 72 % and C2 = 28 % of analytical solution, the C that has access to a resource with an external supply wins, S1 and S2 same as solution (M = N, $\\rho$ = c(1,0), Ea = c(0.6,0.6)|\n",
    "|3b | 1.26 | 0.16 | 0.33 | 0.44 | Different to analytical solution, the C with a resource with an external supply 'wins' (M = N, $\\rho$ = c(1,0), Ea = c(0.6,1.0)|\n",
    "|4a | 0.00 | 0.00 | 0.04 | 0.04 | Analytical solution predicts C correctly but not S (M = N, $\\rho$ = c(0,0), Ea = c(0.6,0.6)|\n",
    "|4b | 0.00 | 0.00 | 0.09 | 0.15 | Analytical solution predicts C correctly but not S (M = N, $\\rho$ = c(0,0), Ea = c(0.6,1.0)|\n",
    "\n",
    "\n",
    "#### Conclusions of finding equlibria\n",
    "* When the bacteria do not compete for resources (i.e. N = M as per Scenario 1a & b) the analytical solutions of all C and S match the model. As per the vectorised simulations (results of Jan/Feb 2020) the lowest $Ea$ value (0.6 eV comapred to 1.0 eV) 'wins' with a higher bacterial mass.\n",
    "* When the bacteria do not compete (N = M) and have the same $Ea$ (Scenario 2a) the equilibria bacterial mass can be found by dividing the analystical solution by 2. This is constant across all $Eas$. When the $Ea$ are different, there is no obvious connection between the simulated and analytical equilibria. Further, the highest $Ea$ has the highest bacteria mass which contradicts all previous work and runs of the vectorised model.\n",
    "* When bacteria do not compete but only one has access to an external resource input (Scenario 3a) then the bacterial mass is 72 \\% of the analytical solution when $\\rho$ = 1 and 28 % of the solution when $\\rho$ = 0. This is when the $Ea$ are the same. When the $Ea$ are different (Scenario 3b), the one with the resource input wins and as of yet there is no relationship between the bacteria with 0 external input of resources and the analytical solution but could be related to the relative difference in $Ea$.\n",
    "* When there are no external resource inputs all bacteria die as predicted by the analytical solution but the solution cannot predict the resource mass. It is unlikely this scenario (Scenario 4a or b) will be relevant in nature.\n",
    "\n",
    "**When not competiting for resources the lowest Ea wins, when competiting for resources the highest Ea wins**\n",
    "\n",
    "**When only one resources has an external input then that resource wins, although others with a higher $Ea$ will do well too. Further down the chain the nutrients become depleted - is this representative of a natural system?**\n",
    "\n",
    "**Perhaps to introduce cross-feeding we make different functional groups which have one external nutrient and they cross feed amongst themselves - a chain is not realistic of nature**\n",
    "\n",
    "**Unless some resources have $\\rho$ = 0, then there is no extinction**"
   ]
  },
  {
   "cell_type": "markdown",
   "metadata": {},
   "source": [
    "------------------------\n",
    "\n",
    "------------------------\n",
    "\n",
    "------------------------\n",
    "\n",
    "------------------------\n",
    "\n",
    "------------------------\n",
    "\n",
    "------------------------\n",
    "\n",
    "------------------------\n",
    "\n",
    "------------------------\n",
    "\n",
    "------------------------\n",
    "\n",
    "------------------------"
   ]
  },
  {
   "cell_type": "markdown",
   "metadata": {},
   "source": [
    "## R*\n",
    "\n",
    "To determine which species will win we can calculate the $R*$, the amount of resource needed for a species to remain at equilibrium. To do this we insert the equilbrium equation for bacteria ($C$, Eq 9) into the equation for bacteria ($C$, Eq 1) and solve for S:\n",
    "\n",
    "\\begin{equation}\n",
    "0 = \\frac{uS\\rho(1 - Rg - l)(1-Rg-l)}{Rm(1-l)} - Rm \n",
    "\\end{equation}\n",
    "\n",
    "\\begin{equation}\n",
    "uS\\rho(1 - Rg - l)^2 = Rm^2(1-l) \n",
    "\\end{equation}\n",
    "\n",
    "\\begin{equation}\n",
    "R*  = \\frac{Rm^2(1-l)}{u\\rho(1 - Rg - l)^2} \\tag{11}\n",
    "\\end{equation}\n",
    "\n",
    "\n",
    "Both nutrient uptake ($u$) and maintenance respiration ($Rm$) can be used to define functional groups based on their temperature dependancies.\n"
   ]
  },
  {
   "cell_type": "markdown",
   "metadata": {},
   "source": [
    "- When T = T_pk the difference in R* between different individuals is largest.\n",
    "- Groups with lower $Ea$ have competitive advantage\n",
    "- The assembly model (below) selects for species with low $Ea$\n",
    "\n",
    "\n",
    "![alt text](R*_20C.png)\n",
    "\n",
    "<!--- Plotting bacteria mass against R* for the structured and random preference matrix gives:--->\n",
    "\n",
    "\n",
    "<!--- ![alt text](B_vs_R_struct.png)--->\n",
    "\n",
    "<!--- ![alt text](B_vs_R_rand1.png)--->\n",
    "\n",
    "<!--- Where purple = low temperature and yellow = high temperature. Green is T_pk (20 C) which gives highest R* and B.--->\n",
    "\n",
    "\n",
    "<!--- Also, when randomly sharing nutrients do not have same mass of nutrient that their competition (see nutrient (N_num) #8 in table).--->\n",
    "<!--- ![alt text](preview_data.png)--->\n"
   ]
  },
  {
   "cell_type": "markdown",
   "metadata": {},
   "source": [
    "### Modelling functional traits\n",
    "\n",
    "#### Temperature and size dependance\n",
    "\n",
    "In this model only $u_{ij}$ and $Rm_i$ can be temperature- and size-dependant as they are the only terms that explicitly depend on an individual consumer $i$. Temperature- and size-dependancy are formulated following the Metabolic Theory of Ecology and the Sharpe-Schoolfield equation. Such that:\n",
    "\n",
    "\\begin{equation}\n",
    "u_{ij} | Rm_i = BM^{\\frac{3}{4}} * \\frac{e^{\\frac{-E}{k}\\cdot\\Bigl(\\frac{1}{T} - \\frac{1}{T_{ref}}\\Bigl)}}{1 + \\frac{E}{E_D - E}\\cdot e^{\\frac{-E_D}{k}\\cdot\\Bigl(\\frac{1}{T_{pk}} - \\frac{1}{T}\\Bigl)}} \\tag{12}\n",
    "\\end{equation}\n"
   ]
  },
  {
   "cell_type": "markdown",
   "metadata": {},
   "source": [
    "<span class=\"mark\">*BECAUSE WE ARE DEALING IN BIOMASS UNITS, SHOULDN'T THE SCALING BE MASS-SPECIFIC, AND NOT WHOLE CELL?*</span> "
   ]
  },
  {
   "cell_type": "markdown",
   "metadata": {
    "hide_input": false
   },
   "source": [
    "where $BM^{0.75}$ is the mass ($M$) scaled to $3/4$ multiplied by a constant that is higher for uptake ($u_{ij}$) than maintenance respiration ($Rm_i$). The second part of the equation is the Sharpe-Schoofield equation where $E$ is the activation energy in eV, $E_D$ is the deactivation energy after the temperature maximum metabolism is reached ($T_{pk}$), $T$ is the temperature and $T_{ref}$ is the reference temperature. All temperatures are expressed in Kelvin (K) and $k$ is the Boltzmann constant of $8.62 x 10^{-5} eV K^{-1}$."
   ]
  },
  {
   "cell_type": "markdown",
   "metadata": {},
   "source": [
    "#### Expressing size dependancy\n",
    "\n",
    "It is uncertain whether size would increase fitness/population size in bacteria. This is because a larger size could increase genome increasing growth rate, but could also increase maintenance respiration ($Rm_i$) which would negatively impact on growth rates and population size. Instead of forcing size to have a positive or negative impact on population size both these relationships can be incorporated into the model. As body size increases, $u_{ij}$ will rise, increasing uptake and have a positive impact on population growth. $Rm_i$ will also increase with body size, but this is a loss term from the bacteria consumer so decreases overall population growth. $B$ for $u_{ij}$ (growth, $Bg$) will be higher than for $Rm_i$ (respiration, $Brm$)."
   ]
  },
  {
   "cell_type": "markdown",
   "metadata": {},
   "source": [
    "## Context and possible aim\n",
    "\n",
    "### Aim\n",
    "Publish a model that can predict which functional groups (> 2, i.e. complex communities) will win/immigrate in novel environmental conditions caused by warming. Show how R* varies with temperature sensitivity (Ea and Tpk)\n",
    "\n",
    "In this laboratory study [(Jiang & Moran 2004)](https://besjournals.onlinelibrary.wiley.com/doi/full/10.1111/j.0021-8790.2004.00830.x) two cilitates are grown independently at different temperatures they grow without an issue (data not shown). When they grow together at different temperatures one (the specialist, closed points) out-competes the other (the generalist, open points) at intermediate temperatures. \n",
    "\n",
    "![alt text](Cilitates.png)\n",
    "\n",
    "Also see 'Our model system illustrates that horizontal (competition) and vertical (enemy–victim) interactions and dispersal markedly affect the distributions and abundances of species. Because these factors are omnipresent in nature, predicting changes in distribution and abundance under global warming by extrapolation of the climate envelope may lead to serious errors' from [(Davis et al 1998)](https://www.nature.com/articles/35842). \n",
    "\n",
    "And 'The species interaction mechanism both helps to explain why many treelines have not advanced in response to climatic warming and highlights that predictions of treeline shifts based solely on climate may be misleading, because interspecific interactions can temper effects of climatic change'. [(Liang et al 2016)](https://www.pnas.org/content/113/16/4380.short)"
   ]
  }
 ],
 "metadata": {
  "kernelspec": {
   "display_name": "Python 3",
   "language": "python",
   "name": "python3"
  },
  "language_info": {
   "codemirror_mode": {
    "name": "ipython",
    "version": 3
   },
   "file_extension": ".py",
   "mimetype": "text/x-python",
   "name": "python",
   "nbconvert_exporter": "python",
   "pygments_lexer": "ipython3",
   "version": "3.7.3"
  },
  "latex_envs": {
   "LaTeX_envs_menu_present": true,
   "autoclose": false,
   "autocomplete": false,
   "bibliofile": "biblio.bib",
   "cite_by": "apalike",
   "current_citInitial": 1,
   "eqLabelWithNumbers": true,
   "eqNumInitial": 1,
   "hotkeys": {
    "equation": "Ctrl-E",
    "itemize": "Ctrl-I"
   },
   "labels_anchors": false,
   "latex_user_defs": false,
   "report_style_numbering": false,
   "user_envs_cfg": false
  },
  "toc": {
   "base_numbering": 1,
   "nav_menu": {},
   "number_sections": true,
   "sideBar": true,
   "skip_h1_title": false,
   "title_cell": "Table of Contents",
   "title_sidebar": "Contents",
   "toc_cell": true,
   "toc_position": {},
   "toc_section_display": true,
   "toc_window_display": false
  }
 },
 "nbformat": 4,
 "nbformat_minor": 2
}
