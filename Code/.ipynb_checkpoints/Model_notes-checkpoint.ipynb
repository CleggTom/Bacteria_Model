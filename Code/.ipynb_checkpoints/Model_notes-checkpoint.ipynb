{
 "cells": [
  {
   "cell_type": "markdown",
   "metadata": {},
   "source": [
    "# Ecological Metabolic constraints on the assembly and functioning of bacterial ecosystems <a class=\"tocSkip\">"
   ]
  },
  {
   "cell_type": "markdown",
   "metadata": {
    "toc": true
   },
   "source": [
    "<h1>Table of Contents<span class=\"tocSkip\"></span></h1>\n",
    "<div class=\"toc\"><ul class=\"toc-item\"><li><span><a href=\"#Introduction\" data-toc-modified-id=\"Introduction-1\"><span class=\"toc-item-num\">1&nbsp;&nbsp;</span>Introduction</a></span></li><li><span><a href=\"#The-Model\" data-toc-modified-id=\"The-Model-2\"><span class=\"toc-item-num\">2&nbsp;&nbsp;</span>The Model</a></span><ul class=\"toc-item\"><li><span><a href=\"#A-Basic-Growth-Model\" data-toc-modified-id=\"A-Basic-Growth-Model-2.1\"><span class=\"toc-item-num\">2.1&nbsp;&nbsp;</span>A Basic Growth Model</a></span></li><li><span><a href=\"#Multiple-Carbon-Sources\" data-toc-modified-id=\"Multiple-Carbon-Sources-2.2\"><span class=\"toc-item-num\">2.2&nbsp;&nbsp;</span>Multiple Carbon Sources</a></span></li><li><span><a href=\"#Resource-Model\" data-toc-modified-id=\"Resource-Model-2.3\"><span class=\"toc-item-num\">2.3&nbsp;&nbsp;</span>Resource Model</a></span></li><li><span><a href=\"#Uptake\" data-toc-modified-id=\"Uptake-2.4\"><span class=\"toc-item-num\">2.4&nbsp;&nbsp;</span>Uptake</a></span></li><li><span><a href=\"#Maintainence-Respiration\" data-toc-modified-id=\"Maintainence-Respiration-2.5\"><span class=\"toc-item-num\">2.5&nbsp;&nbsp;</span>Maintainence Respiration</a></span></li><li><span><a href=\"#Growth-respiration\" data-toc-modified-id=\"Growth-respiration-2.6\"><span class=\"toc-item-num\">2.6&nbsp;&nbsp;</span>Growth respiration</a></span></li><li><span><a href=\"#$l$---the-transition-matrix\" data-toc-modified-id=\"$l$---the-transition-matrix-2.7\"><span class=\"toc-item-num\">2.7&nbsp;&nbsp;</span>$l$ - the transition matrix</a></span></li><li><span><a href=\"#Multi-species-model\" data-toc-modified-id=\"Multi-species-model-2.8\"><span class=\"toc-item-num\">2.8&nbsp;&nbsp;</span>Multi-species model</a></span><ul class=\"toc-item\"><li><span><a href=\"#Consumers\" data-toc-modified-id=\"Consumers-2.8.1\"><span class=\"toc-item-num\">2.8.1&nbsp;&nbsp;</span>Consumers</a></span></li><li><span><a href=\"#Resources\" data-toc-modified-id=\"Resources-2.8.2\"><span class=\"toc-item-num\">2.8.2&nbsp;&nbsp;</span>Resources</a></span></li><li><span><a href=\"#Constraints\" data-toc-modified-id=\"Constraints-2.8.3\"><span class=\"toc-item-num\">2.8.3&nbsp;&nbsp;</span>Constraints</a></span></li><li><span><a href=\"#Comparison-to-the-Marsland-model\" data-toc-modified-id=\"Comparison-to-the-Marsland-model-2.8.4\"><span class=\"toc-item-num\">2.8.4&nbsp;&nbsp;</span>Comparison to the Marsland model</a></span><ul class=\"toc-item\"><li><span><a href=\"#Differences-between-ours-and-Marslands-model\" data-toc-modified-id=\"Differences-between-ours-and-Marslands-model-2.8.4.1\"><span class=\"toc-item-num\">2.8.4.1&nbsp;&nbsp;</span>Differences between ours and Marslands model</a></span></li></ul></li></ul></li><li><span><a href=\"#2-species-2-resources-model\" data-toc-modified-id=\"2-species-2-resources-model-2.9\"><span class=\"toc-item-num\">2.9&nbsp;&nbsp;</span>2-species 2-resources model</a></span><ul class=\"toc-item\"><li><span><a href=\"#Bacteria\" data-toc-modified-id=\"Bacteria-2.9.1\"><span class=\"toc-item-num\">2.9.1&nbsp;&nbsp;</span>Bacteria</a></span></li><li><span><a href=\"#Resources\" data-toc-modified-id=\"Resources-2.9.2\"><span class=\"toc-item-num\">2.9.2&nbsp;&nbsp;</span>Resources</a></span></li></ul></li><li><span><a href=\"#Co-existence-at-equilibria\" data-toc-modified-id=\"Co-existence-at-equilibria-2.10\"><span class=\"toc-item-num\">2.10&nbsp;&nbsp;</span>Co-existence at equilibria</a></span><ul class=\"toc-item\"><li><span><a href=\"#Find-all-possible-equilibria-Bacteria-masses-at-different-Ea-values\" data-toc-modified-id=\"Find-all-possible-equilibria-Bacteria-masses-at-different-Ea-values-2.10.1\"><span class=\"toc-item-num\">2.10.1&nbsp;&nbsp;</span>Find all possible equilibria Bacteria masses at different Ea values</a></span></li><li><span><a href=\"#Findings-in-equilibria-values\" data-toc-modified-id=\"Findings-in-equilibria-values-2.10.2\"><span class=\"toc-item-num\">2.10.2&nbsp;&nbsp;</span>Findings in equilibria values</a></span><ul class=\"toc-item\"><li><span><a href=\"#Conclusions-of-finding-equlibria\" data-toc-modified-id=\"Conclusions-of-finding-equlibria-2.10.2.1\"><span class=\"toc-item-num\">2.10.2.1&nbsp;&nbsp;</span>Conclusions of finding equlibria</a></span></li></ul></li></ul></li><li><span><a href=\"#R*\" data-toc-modified-id=\"R*-2.11\"><span class=\"toc-item-num\">2.11&nbsp;&nbsp;</span>R*</a></span><ul class=\"toc-item\"><li><span><a href=\"#Modelling-functional-traits\" data-toc-modified-id=\"Modelling-functional-traits-2.11.1\"><span class=\"toc-item-num\">2.11.1&nbsp;&nbsp;</span>Modelling functional traits</a></span><ul class=\"toc-item\"><li><span><a href=\"#Temperature-and-size-dependance\" data-toc-modified-id=\"Temperature-and-size-dependance-2.11.1.1\"><span class=\"toc-item-num\">2.11.1.1&nbsp;&nbsp;</span>Temperature and size dependance</a></span></li><li><span><a href=\"#Expressing-size-dependancy\" data-toc-modified-id=\"Expressing-size-dependancy-2.11.1.2\"><span class=\"toc-item-num\">2.11.1.2&nbsp;&nbsp;</span>Expressing size dependancy</a></span></li></ul></li></ul></li><li><span><a href=\"#Context-and-possible-aim\" data-toc-modified-id=\"Context-and-possible-aim-2.12\"><span class=\"toc-item-num\">2.12&nbsp;&nbsp;</span>Context and possible aim</a></span><ul class=\"toc-item\"><li><span><a href=\"#Aim\" data-toc-modified-id=\"Aim-2.12.1\"><span class=\"toc-item-num\">2.12.1&nbsp;&nbsp;</span>Aim</a></span></li></ul></li></ul></li></ul></div>"
   ]
  },
  {
   "cell_type": "markdown",
   "metadata": {},
   "source": [
    "# Introduction"
   ]
  },
  {
   "cell_type": "markdown",
   "metadata": {},
   "source": [
    "How does microbial ecosystem structure and functioning respond to warming and disturbance (e.g. chemical pollution such as pesticides or antibiotics)? \n",
    "\n",
    "This model investigates the response of ecosystems/communities of interacting bacterial populations to warming. We build on the work by [Marsland et al. (2019)](https://journals.plos.org/ploscompbiol/article?id=10.1371/journal.pcbi.1006793), which is itself based on the seminal Rosenzweig-MacArthur consumer-resource model. \n",
    "\n",
    "This notebook sets out the model, and analyses it with the objective of determining which bacterial traits/strategies are \"selected\" by species sorting under different environment conditions."
   ]
  },
  {
   "cell_type": "markdown",
   "metadata": {},
   "source": [
    "# The Model\n",
    "\n",
    "The mathematical model represents multiple consumers (bacteria) feeding on multiple carbon resources: substrates in the from of particulate or dissolved organic carbon compounds (POC and DOC, respectively). Each bacterial population can feed on a specific set of resources only, and a portion of any given resource consumed by any given bacterial population is necessarily converted into one or more other resources. Multiple bacteria with different functional traits (e.g. size, type of response to warming, or the thermal performance curves (TPC), substrate preference) may compete for the same resource. "
   ]
  },
  {
   "cell_type": "markdown",
   "metadata": {},
   "source": [
    "## A Basic Growth Model\n",
    "\n",
    "I start with the fundamental observation that the carbon biomass growth rate of the bacterial population $i$ is given by the gain of carbon $U_i$ minus the losses $D_i$:\n",
    "\n",
    "\\begin{align}\n",
    "    \\frac{1}{C_i}\\frac{dC_i}{dt} = U_i - D_i\n",
    "\\end{align}\n",
    "\n",
    "Given that one of our end goals is to model the emergent total metabolism of the community as a measure of ecosystem functioning, we can separate this loss term into carbon that is lost due to respiration $R_i$ (i.e. as $\\text{CO}_2$), and carbon that is lost and released into the environment $L_i$ giving:\n",
    "\n",
    "\\begin{align}\n",
    "    \\frac{1}{C_i}\\frac{dC_i}{dt} = U_i - R_i - L_i\n",
    "\\end{align}"
   ]
  },
  {
   "cell_type": "markdown",
   "metadata": {},
   "source": [
    "Following the work of Manzoni & Porporato ([2009](https://www.sciencedirect.com/science/article/pii/S0038071709000765)), we can further partition these repiratory losses into those that reflect the cost of mainentence,$R_{m_i}$ and that which occurs as a result of growth $R_{g_i}$ such that $R_i = R_{m_i} + R_{g_i}$. \n",
    "\n",
    "\\begin{align}\n",
    "    \\frac{1}{C_i}\\frac{dC_i}{dt} = U_i - R_{g_i} - R_{m_i} - L_i\n",
    "\\end{align}"
   ]
  },
  {
   "cell_type": "markdown",
   "metadata": {},
   "source": [
    "Growth respiration here represents the loss of carbon that occurs due inefficency of metabolising certain carbon sources ([Gommers et al. 1988](https://onlinelibrary.wiley.com/doi/abs/10.1002/bit.260320112)) whilst maintenance respiration represents the costs of processes such as protein and nucleic acid turnover, osmoregulation and motility ([Chapman & Grey 1986](https://www.sciencedirect.com/science/article/pii/0038071786900957)). I seperate these two types of respiration as it allows the links to the processes that these types of respiration depended on to be expressed fully\n",
    "\n",
    "As growth respiration is associated with assimilating carbon uptake into biomass it should be related to the magnitude of uptake (i.e. $R_{g_i} = f(U_i)$). This relationship is most commonly assumed to be linear with a fixed proportion of uptake being lost via growth respiration, $R_{g_i} = p_{R_g} U_i$. I assume here that maintenence respiration, the other source of carbon loss, is constant with regards to uptake, with the total carbon loss from maintenence being proportional to the amount of biomass. Including this in the total growth model above gives:\n",
    "\n",
    "\\begin{align}\n",
    "    \\frac{1}{C_i}\\frac{dC_i}{dt} = U_i - p_{R_g} U_i - R_{m_i} - L_i\n",
    "\\end{align}"
   ]
  },
  {
   "cell_type": "markdown",
   "metadata": {},
   "source": [
    "Similarly we can link the non-respiratory loss of carbon $L_i$ to the processes occuring within the cell. As this loss term is mostly due to the inefficency of metabolising carbon uptake (with the contribtion of processes such as cell mortality being negligble) we can also link it to carbon uptake, assuming a fixed proportion is lost via this route $L_i = p_{L} U_i$:\n",
    "\n",
    "\\begin{align}\n",
    "    \\frac{1}{C_i}\\frac{dC_i}{dt} &= U_i - p_{R_g} U_i - R_{m_i} - p_L U_i \\\\\n",
    "                                 &= U_i (1 - p_{R_g} - p_L) - R_{m_i}\\\\\n",
    "\\end{align}"
   ]
  },
  {
   "cell_type": "markdown",
   "metadata": {},
   "source": [
    "## Multiple Carbon Sources\n",
    "The equation above represents the growth of a population with respect to some arbitrary rate of carbon uptake $U_i$. Real populations can be resource limited (leading to a dependence of uptake on resource avaliblity) and will feed across multiple carbon sources. Thus, we can represent the uptake of carbon by species $i$ across $M$ carbon sources ($S_j$) as:\n",
    "\n",
    "\\begin{align}\n",
    "U_i = \\sum_{j=1}^M u_{ij} S_j\n",
    "\\end{align}\n",
    "\n",
    " Where $u_{ij}$  represents the per biomass uptake rate of resource $j$ by species $i$. Note that this rate is described by the first order term here but could follow a more complex function of resource avalibility."
   ]
  },
  {
   "cell_type": "markdown",
   "metadata": {},
   "source": [
    "As the rates of growth respiration $R_g$ and the loss of carbon to the enviroment $L_i$ are dependent on uptake we can assume that their values will vary across the $M$ carbon sources. We can indicate this by including the $j$ index, letting us rewite the growth equation as:\n",
    "\n",
    "\\begin{align}\n",
    "    \\frac{1}{C_i}\\frac{dC_i}{dt} = (\\sum_{j=1}^M u_{ij} S_j  (1 - {p_{R_g}}_j - {p_L}_j)) - R_{m_i}\n",
    "\\end{align}\n"
   ]
  },
  {
   "cell_type": "markdown",
   "metadata": {},
   "source": [
    "We can further expand this by considering that the loss of carbon to the enviroment will actually occur via the release of carbon in multiple forms (due to the breakdown of more complex compunds) and can be expressed as sum of losses across $M$ carbon compounds $P_{L_j} = \\sum_{k=1}^{M} l_{jk}$ where entries of the matrix $l_{jk}$ represent the proportion of uptake of resource $j$ that is released as resource $k$. This release allows the cross-feeding interactions that characterise microbial systems to be represented in the dynamics and results in the final growth model for population $i$:\n",
    "\n",
    "\\begin{align}\n",
    "    \\frac{1}{C_i}\\frac{dC_i}{dt} = (\\sum_{j=1}^M u_{ij} S_j  (1 - {p_{R_g}}_j - \\sum_{k=1}^{M} l_{jk})) - R_{m_i}\n",
    "\\end{align}"
   ]
  },
  {
   "cell_type": "markdown",
   "metadata": {},
   "source": [
    "## Resource Model\n",
    "\n",
    "Now we have derived an equation describing the growth of a bacterial species, we need to write the set of equations describing resource dyanmics. These equations follow fairly naturally from the popualtion dynamics when enforcing mass conservation. As with carbon biomass the amount of resource $j$ in the enviroment must be determined by the rate at which it enters ($I$) minus the rate at which it leaves ($L$):\n",
    "\n",
    "\\begin{align}\n",
    "    \\frac{dS_j}{dt} = I_j - L_j\n",
    "\\end{align}"
   ]
  },
  {
   "cell_type": "markdown",
   "metadata": {},
   "source": [
    "The change in carbon resource avaliblity can be attributed either to abiotic processes (which we represent here through the constant term $\\rho_j$) or through the activity of the bacterial community which takes up resource $j$ at the rate $U_j$ and releases it (via the inefficency of uptake) through the $L_j$ term:\n",
    "\n",
    "\\begin{align}\n",
    "    \\frac{dS_j}{dt} = \\rho_j - U_j + L_j\n",
    "\\end{align}"
   ]
  },
  {
   "cell_type": "markdown",
   "metadata": {},
   "source": [
    "We can get the rates of uptake and release by the community by summing across all $N$ species in the community and across all $M$ resources which they release as a result of the $L_j$ term:\n",
    "\n",
    "\\begin{align}\n",
    "    \\frac{dS_j}{dt} = \\rho_j - \n",
    "                      \\sum_{i = 1}^{N} \\left( S_j C_i u_{ij}  - \\sum_{k = 1}^{N} C_i S_k u_{ik} l_{kj} \\right)\n",
    "\\end{align}"
   ]
  },
  {
   "cell_type": "markdown",
   "metadata": {},
   "source": [
    "So overall the change in enviromental carbon in the form of resource $j$ is equal to the intrinsic rate of change ($\\rho_j$) minus the net effect of each bacterial population. This net effect is made up of the uptake (the first term) and the release via the inefficent uptake of other carbon sources (the last)."
   ]
  },
  {
   "cell_type": "markdown",
   "metadata": {},
   "source": [
    "So there are 4 main parameters that we need for this model:\n",
    "1. Uptake matrix\n",
    "2. Maintenece Respriaton\n",
    "3. Growth Respiration\n",
    "4. Carbon transition matrix\n",
    "\n",
    "But how do we get estimates for these?"
   ]
  },
  {
   "cell_type": "markdown",
   "metadata": {},
   "source": [
    "## Uptake\n",
    "\n",
    "So we cannot really obtain estimates of uptake directly but we can may be able to use Tom Smith's data to get estimates of the magnitude relative to total respiration?\n",
    "\n",
    "In terms of structure of the matrix we can vary the nestedness of the interactions (changing the strength of interaction in the community).\n",
    "\n",
    "Temperature should directly affect uptake as it is related to the activity of enzymes and the transport of compounds across the cell wall, at a minimum the rate of passive diffusion should increase. It's hard to know how to parameterise this individually though... There is some evidence that microbes switch metabolic pathways with temperature, this can be represented though the alteration of the relative uptake rates. "
   ]
  },
  {
   "cell_type": "markdown",
   "metadata": {},
   "source": [
    "## Maintainence Respiration\n",
    "\n",
    "There is a fairly large body of work considering the importance of microbial maintenence respiration with various models and experiments aiming to understand its dynamics.\n",
    "\n",
    "We may be able to estimate the amount of respiration that originates from this process in relation to the total respiration of a given population by using these papers. For example [Price & Sowers (2004)](https://www.ncbi.nlm.nih.gov/pmc/articles/PMC384798/) estimate the ratio of metabolic rates for bacteria in growth and maintence phases to be $10^3 : 1$. We need to look at more papers for this as this ratio seems very high.\n",
    "\n",
    "The same paper also looks at the temperature dependence of metabolism across these two phases, finding no difference. This could be very helpful as it indicates that the total respiratory temperature dependence should be equal to the temperature dependence of each part individually..."
   ]
  },
  {
   "cell_type": "markdown",
   "metadata": {},
   "source": [
    "## Growth respiration\n",
    "\n",
    "As it stands in the model, growth respiration is the fixed proportion of each carbon source that is lost as $CO_2$ when it is metabolised. Thus, it takes the form of a vector with length $M$. In theory we can set a limit to the values in this vector based on the fact that the metabolism of many carbon sources will not allow total conversion of carbon mass. This should hold true for more complex carbon compunds though the proportion respired should increase as the molecules get more simple (i.e. i imagine the consumption of something simple like glucose should be relatively straightforward and efficent). \n",
    "\n",
    "This point is backed up by the work of [Gommers et al. (1988)](https://onlinelibrary.wiley.com/doi/abs/10.1002/bit.260320112) who estimate that around $12\\%-29\\%$ of substrate is released as $CO_2$ during metabolism (A nice range to work with?).\n",
    "\n",
    "In terms of temperature dependence the proportion of carbon respired per unit input should not change with temperature (i.e. $p_{R_g}$ above) though the supply of material to metabolise (via the uptake term) will. "
   ]
  },
  {
   "cell_type": "markdown",
   "metadata": {},
   "source": [
    "## $l$ - the transition matrix\n",
    "\n",
    "Though this matrix is impossible to directly parameterise we can make some assumptions about its structure.\n",
    "\n",
    "Firstly we can assume that its entries are independent of temperature. As this parameter represents the conversion of the uptake of one form of carbon into others it will be constrained by the biochemical pathways that are used in the metabolism of the carbon source. Thus, unless the metabolic pathways change themselves (which there acually is some evidence for ): ) the entries of $l$ will remain the same.\n",
    "\n",
    "We can also make some assumptions about the strucuture of $l$. As the transistions between carbon sources represent biochemical reactions we can assume some kind of directionality in the reactions as complex compunds are broken down into more simple ones. This can be interperated in terms of the entropy production in these reactions."
   ]
  },
  {
   "cell_type": "markdown",
   "metadata": {},
   "source": [
    "## Multi-species model\n",
    "\n",
    "### Consumers\n",
    "\n",
    "For an $i$th consumers with $j$ resources the core consumer equation is:\n",
    "\n",
    "\\begin{equation}\n",
    "dC_i/dt = C_i\\Bigl(\\sum_{j=1}^{M}u_{ij}S_j(1-R_{g,j}-\\sum_{k=1}^{M}l_{jk}) - R_{m,i}\\Bigl) \\tag{1}\n",
    "\\end{equation}"
   ]
  },
  {
   "cell_type": "markdown",
   "metadata": {},
   "source": [
    "where $C_i$ is the biomass of consumer $i$, $u_{ij}$ is the preference of consumer $i$ to uptake resource $j$, $S_j$ is the mass or concentration of resources $j$, $R_{g,j}$ is the loss of consuming resource $j$ to respiration, $l_{jk}$ is the proportion of $j$ taken up by the bacteria that is converted to and released as resource $k$, and $R_{m,i}$ is the maintenance cost loss term. "
   ]
  },
  {
   "cell_type": "markdown",
   "metadata": {},
   "source": [
    "### Resources\n",
    "\n",
    "For a $j$th resource the core equation is:\n",
    "\n",
    "\\begin{equation}\n",
    "dS_j/dt = \\rho_j - \\sum_{i=1}^{N}\\Bigl(C_iu_{ij}S_j-\\sum_{k=1}^{M}C_iu_{ij}S_jl_{kj}\\Bigl) \\tag{2}\n",
    "\\end{equation}\n",
    "\n",
    "where $\\rho$ is the external input of resource $j$ and $l_{kj}$ is the gain and conversion of resource $j$ from $k$.\n",
    "\n",
    "### Constraints\n",
    "\n",
    "\\begin{array}{|c|c|c|}\n",
    "\\hline Parameter/Variable & Dimension & Units & Constraint & Temp/size-dependant & Initial-value \\\\\\hline\n",
    "  External-nutrient-supply, \\rho_j & vector (,j) & mass/time & > 0 & no & 1 \\\\\\hline\n",
    "  Nutrient-uptake, u_{ij} & matrix (i,j) & /masstime & > 0& yes & 1 \\\\\\hline\n",
    "  Growth-respiration, R_{g,j} & vector (,j) & NA & < 1 & no & 0 \\\\\\hline\n",
    "  Maintenance-respiration, R_{m,i} & vector (i,) & /time & >0, < 1& yes & 0.5 \\\\\\hline\n",
    "  Excretion-to-new-nutrient, l_{jk} & matrix (j,k) & NA & < 1& no & 0.4 \\\\\\hline\n",
    "  Nutrients& vector (j,) & mass& > 0 & NA & 1 \\\\\\hline\n",
    "  Bacteria & vector (i,) & mass& > 0 & NA & 0.1 \\\\\\hline\n",
    "\\end{array}\n",
    "\n",
    "The above table sets our the contraints on the parameters and variables (nutrients and bacteria). There is another condition too that growth respiration and excretion must not sum to 1 or more ($R_{g,j}$ + $l_{jk}$ < 1) as otherwise no nutrient is gained by the bacteria.\n",
    "\n"
   ]
  },
  {
   "cell_type": "markdown",
   "metadata": {},
   "source": [
    "### Comparison to the Marsland model\n",
    "\n",
    "The equations below set out the Marsland 2019 model.\n",
    "\n",
    "\\begin{equation}\n",
    "dC_i/dt = g_iC_i\\Bigl(\\sum_{j=1}^{M}w_j\\sigma u_{ij}S_j(1-\\sum_{k=1}^{M}l_{jk}) - R_{m,i}\\Bigl) \\tag{3}\n",
    "\\end{equation}\n",
    "\n",
    "\\begin{equation}\n",
    "dS_j/dt = \\rho_j + \\sum_{i=1}^{N}C_i\\Bigl(\\sum_{k=1}^{M}\\sigma u_{ij}S_j l_{kj} - \\sigma u_{ij}S_j\\Bigl) \\tag{4}\n",
    "\\end{equation}\n",
    "\n",
    "where $g_i$ is the proportional constant between per capita growth rate and energy flux, $w_j$ is the energy density of resource $j$ (units are energy/mass) and $\\sigma$ is the functional response (units mass/time).\n",
    "\n",
    "#### Differences between ours and Marslands model\n",
    "\n",
    "- We do not parameterise energy density of resource ($w_j$) and therefore nor the constant between growth and energy flux ($g_i$) \n",
    "- We assume a Type I functional response ($\\sigma$)\n",
    "- For Marsland $\\rho_j$ = 0 except for $\\rho_0$, so only the first resource has an external input which then diversifies. In our model all resources have an input.\n",
    "- We include the addition of respiration loss associated with growth ($R_g$) as a loss term in the Bacterial mass (dC/dt) equation."
   ]
  },
  {
   "cell_type": "markdown",
   "metadata": {},
   "source": [
    "## 2-species 2-resources model \n",
    "\n",
    "### Bacteria\n",
    "\n",
    "\\begin{equation}\n",
    "dC_1/dt = C_1\\Bigl(\\Bigl(u_{11}S_1(1-Rg_1-(l_{12}+l_{21})) + u_{12}S_2(1-Rg_2-(l_{21}+l_{12}))\\Bigl) - Rm_1\\Bigl) \\tag{5}\n",
    "\\end{equation}\n",
    "\n",
    "\\begin{equation}\n",
    "dC_2/dt = C_2\\Bigl(\\Bigl(u_{21}S_1(1-Rg_1-(l_{12}+l_{21})) + u_{22}S_2(1-Rg_2-(l_{21}+l_{12}))\\Bigl) - Rm_2\\Bigl) \\tag{6}\n",
    "\\end{equation}\n",
    "\n",
    "### Resources\n",
    "\\begin{equation}\n",
    "dS_1/dt = \\rho_1 - \\Bigl((C_1u_{11}S_1-   (C_1u_{11}S_1l_{21} + C_1u_{11}S_1l_{12})) + (C_2u_{21}S_1-   (C_2u_{21}S_1l_{21} + C_2u_{21}S_1l_{12}))\\Bigl) \\tag{7}\n",
    "\\end{equation}\n",
    "\n",
    "\\begin{equation}\n",
    "dS_2/dt = \\rho_2 - \\Bigl((C_1u_{12}S_2-   (C_1u_{12}S_2l_{12} + C_1u_{12}S_2l_{21})) + (C_2u_{22}S_2-   (C_2u_{22}S_2l_{12} + C_2u_{22}S_2l_{21}))\\Bigl) \\tag{8}\n",
    "\\end{equation}\n",
    "\n"
   ]
  },
  {
   "cell_type": "markdown",
   "metadata": {},
   "source": [
    "![alt text](Figure_2_species_equil.png)\n",
    "\n",
    "This figure shows the a model run with 2 species (green) and 2 resources (blue). Each species prefers one resouce such that $u_{ij}$ = ([1,0], [0,1]). As there is no competition both species have the same equilibrium mass as do both resources. The starting parameters are given in Table 1.\n",
    "\n",
    "## Co-existence at equilibria\n",
    "\n",
    "The solutions for bacteria at equilibrium are:\n",
    "\n",
    "\\begin{equation}\n",
    "C = 0\n",
    "\\end{equation}\n",
    "\n",
    "\\begin{equation}\n",
    "C = \\frac{\\rho(1 - Rg - l)}{Rm(1-l)} = \\frac{1(1 - 0.2 - 0.4)}{0.5(1-0.4)} = 1.33 \\tag{9} \n",
    "\\end{equation}\n",
    "\n",
    "and for resources are:\n",
    "\n",
    "\\begin{equation}\n",
    "S = 0\n",
    "\\end{equation}\n",
    "\n",
    "\\begin{equation}\n",
    "S = \\frac{Rm}{u(1-Rg-l)} = \\frac{0.5}{1(1-0.2-0.4)} = 1.25 \\tag{10}\n",
    "\\end{equation}\n"
   ]
  },
  {
   "cell_type": "markdown",
   "metadata": {},
   "source": [
    "\n",
    "The solutions for bacteria at equilibrium where the Arrhenius equation is used (i.e. no Tpk):\n",
    "\n",
    "\\begin{equation}\n",
    "C = \\frac{\\rho(1 - Rg - l)}{B_{Rm}M^{0.75}e^{(-Ea/k)(\\frac{1}{T} - \\frac{1}{T_{ref}})}\n",
    "(1-l)} \\tag{11} \n",
    "\\end{equation}\n",
    "\n",
    "and for resources are:\n",
    "\n",
    "\\begin{equation}\n",
    "S = \\frac{B_{rm}M^{0.75}e^{(-Ea/k)(\\frac{1}{T} - \\frac{1}{T_{ref}})}}{B_{u}M^{0.75}e^{(-Ea/k)(\\frac{1}{T} - \\frac{1}{T_{ref}})}(1-Rg-l)} =  \\frac{B_{rm}}{B_{u}(1-Rg-l)}\\tag{12}\n",
    "\\end{equation}\n",
    "\n",
    "Resource ($S$) is independant of $Ea$ and individual functional traits aside from $B0$\n",
    "\n",
    "### Find all possible equilibria Bacteria masses at different Ea values\n",
    "\n",
    "Rearranging Equation 11 yields:\n",
    "\n",
    "\\begin{equation}\n",
    "Ea = \\frac{kln\\Bigl(\\frac{\\rho(1-Rg-l)}{CB_{Rm}M^{0.75}(1-l)}\\Bigl)}{\\frac{1}{T} - \\frac{1}{T_{ref}}} \\tag{13}\n",
    "\\end{equation}\n",
    "\n",
    "![alt text](Ea_equilibrium.png)\n",
    "\n",
    "The grey line is Ea = 0.65 eV, a typical Ea according to MTE. Here C (Bacterial mass) = 1.52\n",
    "\n",
    "Bacteria with higher Eas have higher mass, unless competing...see below."
   ]
  },
  {
   "cell_type": "markdown",
   "metadata": {},
   "source": [
    "### Findings in equilibria values\n",
    "\n",
    "Aims are to determine equilibria values of bacteria ($C$) when (a) $Ea$ for all bacteria is the same and (b) $Ea$ is different for both bacteria, under different scenarios:\n",
    "1. Bacteria are not competiting for resources, i.e. M = N ($\\rho$, external input, is set to 1 for all resources)\n",
    "2. Bacteria are competiting for resources, i.e. M = N/2 ($\\rho$ is set to 1 for all resources)\n",
    "3. $\\rho$ is set to 1 for $\\rho_0$ (the first resource) and to 0 for the rest for M = N (i.e. cross-feeding becomes important)\n",
    "4. $\\rho$ is 0 for all resources for M = N\n",
    "\n",
    "Only for Scenarios 1a & b does the model result match the analytical solution. Note in scenario a) $Ea$ = 0.6 eV for both bacteria and in scenario b) $Ea$ = 0.6 eV for C1 and 1.0 eV for C2. Below C1 and C2 refer to bacteria and S1 and S2 to resources:\n",
    "\n",
    "|Scenarios | C1 | C2 | S1 | S2 | Notes|\n",
    "|---|---|---|---|---|---|\n",
    "|1a | 1.76 | 1.76 | 0.33 | 0.33 | C and S same as analytical solution (M = N, $\\rho$ = c(1,1), Ea = c(0.6,0.6)|\n",
    "|1b | 1.76 | 1.55 | 0.33 | 0.33 | C and S Same as analytical solution (M = N,$\\rho$ = c(1,1), Ea = c(0.6,1.0)|\n",
    "|2a | 0.88 | 0.88 | 0.33 | NA | C1 and C2 are half of analytical solution, i.e. 1.76/2 = 0.88 (M = N/2, $\\rho$ = c(1), Ea = c(0.6,0.6)|\n",
    "|2b | 0.17 | 0.55 | 0.33 | NA | C1 and C2 are different to analytical solution and here the higher $Ea$ (C2) 'wins'  (M = N/2, $\\rho$ = c(1), Ea = c(0.6,1.0)|\n",
    "|3a | 1.26 | 0.50 | 0.33 | 0.33 | C1 = 72 % and C2 = 28 % of analytical solution, the C that has access to a resource with an external supply wins, S1 and S2 same as solution (M = N, $\\rho$ = c(1,0), Ea = c(0.6,0.6)|\n",
    "|3b | 1.26 | 0.16 | 0.33 | 0.44 | Different to analytical solution, the C with a resource with an external supply 'wins' (M = N, $\\rho$ = c(1,0), Ea = c(0.6,1.0)|\n",
    "|4a | 0.00 | 0.00 | 0.04 | 0.04 | Analytical solution predicts C correctly but not S (M = N, $\\rho$ = c(0,0), Ea = c(0.6,0.6)|\n",
    "|4b | 0.00 | 0.00 | 0.09 | 0.15 | Analytical solution predicts C correctly but not S (M = N, $\\rho$ = c(0,0), Ea = c(0.6,1.0)|\n",
    "\n",
    "\n",
    "#### Conclusions of finding equlibria\n",
    "* When the bacteria do not compete for resources (i.e. N = M as per Scenario 1a & b) the analytical solutions of all C and S match the model. As per the vectorised simulations (results of Jan/Feb 2020) the lowest $Ea$ value (0.6 eV comapred to 1.0 eV) 'wins' with a higher bacterial mass.\n",
    "* When the bacteria do not compete (N = M) and have the same $Ea$ (Scenario 2a) the equilibria bacterial mass can be found by dividing the analystical solution by 2. This is constant across all $Eas$. When the $Ea$ are different, there is no obvious connection between the simulated and analytical equilibria. Further, the highest $Ea$ has the highest bacteria mass which contradicts all previous work and runs of the vectorised model.\n",
    "* When bacteria do not compete but only one has access to an external resource input (Scenario 3a) then the bacterial mass is 72 \\% of the analytical solution when $\\rho$ = 1 and 28 % of the solution when $\\rho$ = 0. This is when the $Ea$ are the same. When the $Ea$ are different (Scenario 3b), the one with the resource input wins and as of yet there is no relationship between the bacteria with 0 external input of resources and the analytical solution but could be related to the relative difference in $Ea$.\n",
    "* When there are no external resource inputs all bacteria die as predicted by the analytical solution but the solution cannot predict the resource mass. It is unlikely this scenario (Scenario 4a or b) will be relevant in nature.\n",
    "\n",
    "**When not competiting for resources the lowest Ea wins, when competiting for resources the highest Ea wins**\n",
    "\n",
    "**When only one resources has an external input then that resource wins, although others with a higher $Ea$ will do well too. Further down the chain the nutrients become depleted - is this representative of a natural system?**\n",
    "\n",
    "**Perhaps to introduce cross-feeding we make different functional groups which have one external nutrient and they cross feed amongst themselves - a chain is not realistic of nature**\n",
    "\n",
    "**Unless some resources have $\\rho$ = 0, then there is no extinction**"
   ]
  },
  {
   "cell_type": "markdown",
   "metadata": {},
   "source": [
    "------------------------\n",
    "\n",
    "------------------------\n",
    "\n",
    "------------------------\n",
    "\n",
    "------------------------\n",
    "\n",
    "------------------------\n",
    "\n",
    "------------------------\n",
    "\n",
    "------------------------\n",
    "\n",
    "------------------------\n",
    "\n",
    "------------------------\n",
    "\n",
    "------------------------"
   ]
  },
  {
   "cell_type": "markdown",
   "metadata": {},
   "source": [
    "## R*\n",
    "\n",
    "To determine which species will win we can calculate the $R*$, the amount of resource needed for a species to remain at equilibrium. To do this we insert the equilbrium equation for bacteria ($C$, Eq 9) into the equation for bacteria ($C$, Eq 1) and solve for S:\n",
    "\n",
    "\\begin{equation}\n",
    "0 = \\frac{uS\\rho(1 - Rg - l)(1-Rg-l)}{Rm(1-l)} - Rm \n",
    "\\end{equation}\n",
    "\n",
    "\\begin{equation}\n",
    "uS\\rho(1 - Rg - l)^2 = Rm^2(1-l) \n",
    "\\end{equation}\n",
    "\n",
    "\\begin{equation}\n",
    "R*  = \\frac{Rm^2(1-l)}{u\\rho(1 - Rg - l)^2} \\tag{11}\n",
    "\\end{equation}\n",
    "\n",
    "\n",
    "Both nutrient uptake ($u$) and maintenance respiration ($Rm$) can be used to define functional groups based on their temperature dependancies.\n"
   ]
  },
  {
   "cell_type": "markdown",
   "metadata": {},
   "source": [
    "- When T = T_pk the difference in R* between different individuals is largest.\n",
    "- Groups with lower $Ea$ have competitive advantage\n",
    "- The assembly model (below) selects for species with low $Ea$\n",
    "\n",
    "\n",
    "![alt text](R*_20C.png)\n",
    "\n",
    "<!--- Plotting bacteria mass against R* for the structured and random preference matrix gives:--->\n",
    "\n",
    "\n",
    "<!--- ![alt text](B_vs_R_struct.png)--->\n",
    "\n",
    "<!--- ![alt text](B_vs_R_rand1.png)--->\n",
    "\n",
    "<!--- Where purple = low temperature and yellow = high temperature. Green is T_pk (20 C) which gives highest R* and B.--->\n",
    "\n",
    "\n",
    "<!--- Also, when randomly sharing nutrients do not have same mass of nutrient that their competition (see nutrient (N_num) #8 in table).--->\n",
    "<!--- ![alt text](preview_data.png)--->\n"
   ]
  },
  {
   "cell_type": "markdown",
   "metadata": {},
   "source": [
    "### Modelling functional traits\n",
    "\n",
    "#### Temperature and size dependance\n",
    "\n",
    "In this model only $u_{ij}$ and $R_{m,i}$ can be temperature- and size-dependant as they are the only terms that explicitly depend on an individual consumer $i$. Temperature- and size-dependancy are formulated following the Metabolic Theory of Ecology and the Sharpe-Schoolfield equation. Such that:\n",
    "\n",
    "\\begin{equation}\n",
    "u_{ij} | R_{m,i} = BM^{\\frac{3}{4}} * \\frac{e^{\\frac{-E}{k}\\cdot\\Bigl(\\frac{1}{T} - \\frac{1}{T_{ref}}\\Bigl)}}{1 + \\frac{E}{E_D - E}\\cdot e^{\\frac{-E_D}{k}\\cdot\\Bigl(\\frac{1}{T_{pk}} - \\frac{1}{T}\\Bigl)}} \\tag{12}\n",
    "\\end{equation}\n"
   ]
  },
  {
   "cell_type": "markdown",
   "metadata": {},
   "source": [
    "*BECAUSE WE ARE DEALING IN BIOMASS UNITS, SHOULDN'T THE SCALING BE MASS-SPECIFIC, AND NOT WHOLE CELL?* "
   ]
  },
  {
   "cell_type": "markdown",
   "metadata": {},
   "source": [
    "where $BM^{0.75}$ is the mass ($M$) scaled to $3/4$ multiplied by a constant that is higher for uptake ($u_{ij}$) than maintenance respiration ($R_{m,i}$). The second part of the equation is the Sharpe-Schoofield equation where $E$ is the activation energy in eV, $E_D$ is the deactivation energy after the temperature maximum metabolism is reached ($T_{pk}$), $T$ is the temperature and $T_{ref}$ is the reference temperature. All temperatures are expressed in Kelvin (K) and $k$ is the Boltzmann constant of $8.62 x 10^{-5} eV K^{-1}$."
   ]
  },
  {
   "cell_type": "markdown",
   "metadata": {},
   "source": [
    "#### Expressing size dependancy\n",
    "\n",
    "It is uncertain whether size would increase fitness/population size in bacteria. This is because a larger size could increase genome increasing growth rate, but could also increase maintenance respiration ($R_{m,i}$) which would negatively impact on growth rates and population size. Instead of forcing size to have a positive or negative impact on population size both these relationships can be incorporated into the model. As body size increases, $u_{ij}$ will rise, increasing uptake and have a positive impact on population growth. $R_{m,i}$ will also increase with body size, but this is a loss term from the bacteria consumer so decreases overall population growth. $B$ for $u_{ij}$ (growth, $Bg$) will be higher than for $R_{m,i}$ (respiration, $Brm$)."
   ]
  },
  {
   "cell_type": "markdown",
   "metadata": {},
   "source": [
    "## Context and possible aim\n",
    "\n",
    "### Aim\n",
    "Publish a model that can predict which functional groups (> 2, i.e. complex communities) will win/immigrate in novel environmental conditions caused by warming. Show how R* varies with temperature sensitivity (Ea and Tpk)\n",
    "\n",
    "In this laboratory study [(Jiang & Moran 2004)](https://besjournals.onlinelibrary.wiley.com/doi/full/10.1111/j.0021-8790.2004.00830.x) two cilitates are grown independently at different temperatures they grow without an issue (data not shown). When they grow together at different temperatures one (the specialist, closed points) out-competes the other (the generalist, open points) at intermediate temperatures. \n",
    "\n",
    "![alt text](Cilitates.png)\n",
    "\n",
    "Also see 'Our model system illustrates that horizontal (competition) and vertical (enemy–victim) interactions and dispersal markedly affect the distributions and abundances of species. Because these factors are omnipresent in nature, predicting changes in distribution and abundance under global warming by extrapolation of the climate envelope may lead to serious errors' from [(Davis et al 1998)](https://www.nature.com/articles/35842). \n",
    "\n",
    "And 'The species interaction mechanism both helps to explain why many treelines have not advanced in response to climatic warming and highlights that predictions of treeline shifts based solely on climate may be misleading, because interspecific interactions can temper effects of climatic change'. [(Liang et al 2016)](https://www.pnas.org/content/113/16/4380.short)"
   ]
  }
 ],
 "metadata": {
  "kernelspec": {
   "display_name": "Python 3",
   "language": "python",
   "name": "python3"
  },
  "language_info": {
   "codemirror_mode": {
    "name": "ipython",
    "version": 3
   },
   "file_extension": ".py",
   "mimetype": "text/x-python",
   "name": "python",
   "nbconvert_exporter": "python",
   "pygments_lexer": "ipython3",
   "version": "3.5.2"
  },
  "latex_envs": {
   "LaTeX_envs_menu_present": true,
   "autoclose": false,
   "autocomplete": false,
   "bibliofile": "biblio.bib",
   "cite_by": "apalike",
   "current_citInitial": 1,
   "eqLabelWithNumbers": true,
   "eqNumInitial": 1,
   "hotkeys": {
    "equation": "Ctrl-E",
    "itemize": "Ctrl-I"
   },
   "labels_anchors": false,
   "latex_user_defs": false,
   "report_style_numbering": false,
   "user_envs_cfg": false
  },
  "toc": {
   "base_numbering": 1,
   "nav_menu": {},
   "number_sections": true,
   "sideBar": true,
   "skip_h1_title": false,
   "title_cell": "Table of Contents",
   "title_sidebar": "Contents",
   "toc_cell": true,
   "toc_position": {},
   "toc_section_display": true,
   "toc_window_display": false
  }
 },
 "nbformat": 4,
 "nbformat_minor": 2
}
