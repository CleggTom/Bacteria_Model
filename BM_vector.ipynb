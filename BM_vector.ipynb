{
 "cells": [
  {
   "cell_type": "markdown",
   "metadata": {},
   "source": [
    "# Bacteria model - Vectorisation"
   ]
  },
  {
   "cell_type": "markdown",
   "metadata": {},
   "source": [
    "## Introduction"
   ]
  },
  {
   "cell_type": "markdown",
   "metadata": {},
   "source": [
    "This model builds on the work by [Marsland et al. (2019)](https://journals.plos.org/ploscompbiol/article?id=10.1371/journal.pcbi.1006793). It includes a consumer pool (bacteria) and a resource pool (organic compounds). The bacteria can feed on specific resources only, and the resources consumed by the bacteria can be converted into other resources. This notebook sets out the two ODEs of the model and the vectorised equations."
   ]
  },
  {
   "cell_type": "markdown",
   "metadata": {},
   "source": [
    "## Model equations\n",
    "\n",
    "For detailed model description and explanation of the equations see this [notebook](https://nbviewer.jupyter.org/github/CleggTom/Bacteria_EcoFunc/blob/master/notebooks/Metabolic_model.ipynb) by Tom Clegg who built the initial model. \n",
    "\n",
    "### Consumers\n",
    "\n",
    "For an $i$th consumers with $j$ resources the core consumer equation is:\n",
    "\n",
    "\\begin{equation}\n",
    "dC_i/dt = C_i\\Bigl(\\sum_{j=1}^{M}u_{ij}S_j(1-Rg_j-\\sum_{k=1}^{M}l_{jk}) - Rm_i\\Bigl) \\tag{1}\n",
    "\\end{equation}"
   ]
  },
  {
   "cell_type": "markdown",
   "metadata": {},
   "source": [
    "where $C_i$ is the biomass of consumer $i$, $u_{ij}$ is the preference of consumer $i$ to uptake resource $j$, $S_j$ is the mass or concentration of resources $j$, $Rg_j$ is the loss of consuming resource $j$ to respiration, $l_{jk}$ is the proportion of $j$ taken up by the bacteria that is converted to and released as resource $k$, and $Rm_i$ is the maintenance cost loss term. "
   ]
  },
  {
   "cell_type": "markdown",
   "metadata": {},
   "source": [
    "### Resources\n",
    "\n",
    "For a $j$th resource the core equation is:\n",
    "\n",
    "\\begin{equation}\n",
    "dS_j/dt = \\rho - \\sum_{i=1}^{N}\\Bigl(C_iu_{ij}S_j-\\sum_{k=1}^{M}C_iu_{ij}S_jl_{kj}\\Bigl) \\tag{2}\n",
    "\\end{equation}"
   ]
  },
  {
   "cell_type": "markdown",
   "metadata": {},
   "source": [
    "where $\\rho$ is the external input of resource $j$ and $l_{kj}$ is the gain and conversion of resource $j$ from $k$."
   ]
  },
  {
   "cell_type": "markdown",
   "metadata": {},
   "source": [
    "## Vectorisation\n",
    "\n",
    "To optimise the model run time and to allow modifications (e.g. immigration of species) the equations should be written in vector and matrix format.\n",
    "\n",
    "### Consumer vector equation\n",
    "\n",
    "\\begin{equation}\n",
    "dC/dt = \\begin{matrix}\n",
    "\\begin{bmatrix}\n",
    "    C_1 \\\\\n",
    "    C_2 \\\\\n",
    "    \\vdots \\\\\n",
    "    C_N\n",
    "\\end{bmatrix}\n",
    "\\begin{bmatrix}\n",
    "    \\sum_{j=1}^{M}U_{1j}S_jL_j \\\\\n",
    "    \\sum_{j=1}^{M}U_{2j}S_jL_j \\\\\n",
    "    \\vdots \\\\\n",
    "    \\sum_{j=1}^{M}U_{Nj}S_jL_j\n",
    "\\end{bmatrix}\n",
    "\\begin{bmatrix}\n",
    "    Rm_1 \\\\\n",
    "    Rm_2 \\\\\n",
    "    \\vdots \\\\\n",
    "    Rm_N\n",
    "\\end{bmatrix}\n",
    "\\end{matrix}\\tag{3}\n",
    "\\end{equation}\n",
    "\n"
   ]
  },
  {
   "cell_type": "markdown",
   "metadata": {},
   "source": [
    "where $L_j$ is a column vector of length $M$ defined by:\n",
    "\n",
    "\\begin{equation}\n",
    "\\begin{bmatrix}\n",
    "    L_1 \\\\\n",
    "    L_2 \\\\\n",
    "    \\vdots \\\\\n",
    "    L_M\n",
    "\\end{bmatrix} =\n",
    "\\begin{bmatrix}\n",
    "    1 - Rg_1 - \\sum_{k=1}^{M}l_1k\\\\\n",
    "    1 - Rg_2 - \\sum_{k=1}^{M}l_2k\\\\\n",
    "    \\vdots \\\\\n",
    "    1 - Rg_M - \\sum_{k=1}^{M}l_Mk\n",
    "\\end{bmatrix}\\tag{4}\n",
    "\\end{equation}"
   ]
  },
  {
   "cell_type": "markdown",
   "metadata": {},
   "source": [
    "### Resource vector equation\n",
    "\n",
    "\\begin{equation}\n",
    "dS/dt = \\begin{matrix}\n",
    "\\begin{bmatrix}\n",
    "    \\rho_1 \\\\\n",
    "    \\rho_2 \\\\\n",
    "    \\vdots \\\\\n",
    "    \\rho_M\n",
    "\\end{bmatrix} -\n",
    "\\begin{bmatrix}\n",
    "    C_1\n",
    "    C_2\n",
    "    \\cdots\n",
    "    C_N\n",
    "\\end{bmatrix}\n",
    "\\begin{bmatrix}\n",
    "    U_{i1}S_1 \\\\\n",
    "    U_{i2}S_2 \\\\\n",
    "    \\vdots \\\\\n",
    "    U_{iM}S_M\n",
    "\\end{bmatrix} +\n",
    "\\begin{bmatrix}\n",
    "    \\sum_{i=1}^{N}\\sum_{k=1}^{M}C_iU_{i1}S_1l_{1k} \\\\\n",
    "    \\sum_{i=1}^{N}\\sum_{k=1}^{M}C_iU_{i2}S_2l_{2k} \\\\\n",
    "    \\vdots \\\\\n",
    "    \\sum_{i=1}^{N}\\sum_{k=1}^{M}C_iU_{iM}S_Ml_{Mk}\n",
    "\\end{bmatrix}\n",
    "\\end{matrix}\\tag{5}\n",
    "\\end{equation}"
   ]
  },
  {
   "cell_type": "markdown",
   "metadata": {},
   "source": [
    "where the final vector $\\sum_{i=1}^{N}\\sum_{k=1}^{M}C_iU_{ij}S_jl_{jk}$ can be expressed using Einstein notation:\n",
    "\n",
    "\\begin{equation}\n",
    "\\sum_{i=1}^{N}\\sum_{k=1}^{M}C_iU_{ij}S_jl_{jk} = C_iU_{j}^{i}S_jl_{j}^{k} \\tag{6}\n",
    "\\end{equation}\n",
    "\n",
    "which can be expressed using the `numpy.einsum()` function in Python. The Python code for the vectorised model `bacteria_vector_ein.py` is [here](https://github.com/e-cavan/Bacteria_Model)."
   ]
  },
  {
   "cell_type": "code",
   "execution_count": null,
   "metadata": {},
   "outputs": [],
   "source": []
  }
 ],
 "metadata": {
  "kernelspec": {
   "display_name": "Python 3",
   "language": "python",
   "name": "python3"
  },
  "language_info": {
   "codemirror_mode": {
    "name": "ipython",
    "version": 3
   },
   "file_extension": ".py",
   "mimetype": "text/x-python",
   "name": "python",
   "nbconvert_exporter": "python",
   "pygments_lexer": "ipython3",
   "version": "3.7.3"
  }
 },
 "nbformat": 4,
 "nbformat_minor": 2
}
